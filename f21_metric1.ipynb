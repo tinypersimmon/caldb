{
 "cells": [
  {
   "cell_type": "code",
   "execution_count": 2,
   "metadata": {},
   "outputs": [],
   "source": [
    "import numpy as np\n",
    "import pandas as pd\n",
    "\n",
    "import matplotlib\n",
    "%matplotlib inline\n",
    "import matplotlib.pyplot as plt\n",
    "plt.style.use('seaborn')"
   ]
  },
  {
   "cell_type": "markdown",
   "metadata": {},
   "source": [
    "### to do\n",
    "1. Make table with gen statistics ?"
   ]
  },
  {
   "cell_type": "code",
   "execution_count": 3,
   "metadata": {},
   "outputs": [],
   "source": [
    "## drop unnecessary stuff\n",
    "raw_df = pd.read_csv('erg1_f21.csv')\n",
    "df = raw_df.drop(['Questions, comments? other?', 'Did you send a pic of your time trial splits to one of the coaches?'], axis=1)\n",
    "df = df.drop_duplicates()\n",
    "df = df.rename(columns={\"500m Time (M:SS:X)\":\"overall_time\", \"Time (MM:SS:X) (PLEASE USE ONLYS COLONS (:) not DECIMALS!!). 2:30:0 NOT 2:30.0!!!\":\"overall_time\", \"Split 1 (MM:SS:X)\": \"split_1\", \"Split 2 (MM:SS:X)\": \"split_2\", \"Split 3 (MM:SS:X)\":\"split_3\", \"Split 4 (MM:SS:X)\":\"split_4\", \"Split 5 (MM:SS:X)\":\"split_5\"})\n",
    "df = df.drop(['Split 1 (M:SS.X)', 'Split 2 (M:SS.X)', 'Split 3 (M:SS.X)', 'Split 4 (M:SS.X)', 'Split 5 (M:SS.X)', 'Gender.1'], axis=1)"
   ]
  },
  {
   "cell_type": "code",
   "execution_count": 4,
   "metadata": {},
   "outputs": [
    {
     "data": {
      "text/html": [
       "<div>\n",
       "<style scoped>\n",
       "    .dataframe tbody tr th:only-of-type {\n",
       "        vertical-align: middle;\n",
       "    }\n",
       "\n",
       "    .dataframe tbody tr th {\n",
       "        vertical-align: top;\n",
       "    }\n",
       "\n",
       "    .dataframe thead th {\n",
       "        text-align: right;\n",
       "    }\n",
       "</style>\n",
       "<table border=\"1\" class=\"dataframe\">\n",
       "  <thead>\n",
       "    <tr style=\"text-align: right;\">\n",
       "      <th></th>\n",
       "      <th>Timestamp</th>\n",
       "      <th>Name</th>\n",
       "      <th>Gender</th>\n",
       "      <th>Pic received?</th>\n",
       "      <th>overall_time</th>\n",
       "      <th>Side</th>\n",
       "      <th>Weight (lb)</th>\n",
       "      <th>split_1</th>\n",
       "      <th>split_2</th>\n",
       "      <th>split_3</th>\n",
       "      <th>split_4</th>\n",
       "      <th>split_5</th>\n",
       "    </tr>\n",
       "  </thead>\n",
       "  <tbody>\n",
       "    <tr>\n",
       "      <th>0</th>\n",
       "      <td>01/10/2021 20:34:10</td>\n",
       "      <td>elephant seal</td>\n",
       "      <td>m</td>\n",
       "      <td>Rosa</td>\n",
       "      <td>3:00:0</td>\n",
       "      <td>Left</td>\n",
       "      <td>154</td>\n",
       "      <td>02:49:05.000</td>\n",
       "      <td>2:46:5</td>\n",
       "      <td>2:55:0</td>\n",
       "      <td>3:10:0</td>\n",
       "      <td>3:19:0</td>\n",
       "    </tr>\n",
       "    <tr>\n",
       "      <th>1</th>\n",
       "      <td>03/10/2021 22:37:26</td>\n",
       "      <td>flying lizard</td>\n",
       "      <td>m</td>\n",
       "      <td>NaN</td>\n",
       "      <td>2:38:5</td>\n",
       "      <td>Right</td>\n",
       "      <td>170</td>\n",
       "      <td>2:27:5</td>\n",
       "      <td>2:24:0</td>\n",
       "      <td>2:40:0</td>\n",
       "      <td>2:50:0</td>\n",
       "      <td>2:51:1</td>\n",
       "    </tr>\n",
       "    <tr>\n",
       "      <th>2</th>\n",
       "      <td>04/10/2021 21:31:45</td>\n",
       "      <td>lion</td>\n",
       "      <td>m</td>\n",
       "      <td>NaN</td>\n",
       "      <td>2:16:9</td>\n",
       "      <td>Right</td>\n",
       "      <td>144</td>\n",
       "      <td>2:09:0</td>\n",
       "      <td>2:05:0</td>\n",
       "      <td>2:11:0</td>\n",
       "      <td>2:22:0</td>\n",
       "      <td>2:37:5</td>\n",
       "    </tr>\n",
       "    <tr>\n",
       "      <th>3</th>\n",
       "      <td>06/10/2021 11:35:20</td>\n",
       "      <td>Anna's hummingbird</td>\n",
       "      <td>f</td>\n",
       "      <td>Angie</td>\n",
       "      <td>2:56:5</td>\n",
       "      <td>Right</td>\n",
       "      <td>113</td>\n",
       "      <td>02:51:05</td>\n",
       "      <td>02:53:00</td>\n",
       "      <td>02:56:00</td>\n",
       "      <td>02:57:05</td>\n",
       "      <td>03:04:05</td>\n",
       "    </tr>\n",
       "    <tr>\n",
       "      <th>4</th>\n",
       "      <td>06/10/2021 12:04:28</td>\n",
       "      <td>snowshoe hare</td>\n",
       "      <td>f</td>\n",
       "      <td>Angie</td>\n",
       "      <td>2:37:5</td>\n",
       "      <td>Right</td>\n",
       "      <td>122</td>\n",
       "      <td>2:32:0</td>\n",
       "      <td>2:31:0</td>\n",
       "      <td>2:36:0</td>\n",
       "      <td>2:42:0</td>\n",
       "      <td>2:45:0</td>\n",
       "    </tr>\n",
       "  </tbody>\n",
       "</table>\n",
       "</div>"
      ],
      "text/plain": [
       "             Timestamp                Name Gender Pic received? overall_time  \\\n",
       "0  01/10/2021 20:34:10       elephant seal      m          Rosa       3:00:0   \n",
       "1  03/10/2021 22:37:26       flying lizard      m           NaN       2:38:5   \n",
       "2  04/10/2021 21:31:45                lion      m           NaN       2:16:9   \n",
       "3  06/10/2021 11:35:20  Anna's hummingbird      f         Angie       2:56:5   \n",
       "4  06/10/2021 12:04:28       snowshoe hare      f         Angie       2:37:5   \n",
       "\n",
       "    Side  Weight (lb)       split_1   split_2   split_3   split_4   split_5  \n",
       "0   Left          154  02:49:05.000    2:46:5    2:55:0    3:10:0    3:19:0  \n",
       "1  Right          170        2:27:5    2:24:0    2:40:0    2:50:0    2:51:1  \n",
       "2  Right          144        2:09:0    2:05:0    2:11:0    2:22:0    2:37:5  \n",
       "3  Right          113      02:51:05  02:53:00  02:56:00  02:57:05  03:04:05  \n",
       "4  Right          122        2:32:0    2:31:0    2:36:0    2:42:0    2:45:0  "
      ]
     },
     "execution_count": 4,
     "metadata": {},
     "output_type": "execute_result"
    }
   ],
   "source": [
    "# get secret names\n",
    "codenames = pd.read_csv('f21_codenames.csv')\n",
    "names_dct = dict(zip(codenames['Name'], codenames['Codename']))\n",
    "names = np.array(df['Name'])\n",
    "\n",
    "# rename and place into df\n",
    "for i in np.arange(len(names)):\n",
    "    names[i] = names_dct[names[i]]\n",
    "df['Name'] = names\n",
    "df.head()"
   ]
  },
  {
   "cell_type": "code",
   "execution_count": 5,
   "metadata": {},
   "outputs": [],
   "source": [
    "# roster comparison\n",
    "roster = pd.read_csv('roster_f21.csv')\n",
    "paddlers = np.array(roster['Name'])"
   ]
  },
  {
   "cell_type": "code",
   "execution_count": 6,
   "metadata": {},
   "outputs": [],
   "source": [
    "## finds ppl who didnt submit\n",
    "submitted = np.array(df['Name'])\n",
    "no_submission = list(set(paddlers) - set(submitted))"
   ]
  },
  {
   "cell_type": "code",
   "execution_count": 7,
   "metadata": {},
   "outputs": [],
   "source": [
    "## finds ppl who didnt submit a pic\n",
    "no_pic = df[df['Pic received?'].isna()]"
   ]
  },
  {
   "cell_type": "code",
   "execution_count": 8,
   "metadata": {},
   "outputs": [],
   "source": [
    "# convert splits\n",
    "for i in np.arange(0,6):\n",
    "    col_name = 'split_%s' % i\n",
    "    if i == 0:\n",
    "        col_name = 'overall_time'\n",
    "    time_col = np.array(df[col_name])\n",
    "    new_time = []\n",
    "    for j in np.arange(len(time_col)):\n",
    "        split_str = time_col[j]\n",
    "        arr = np.array(split_str.split(':')).astype(np.double)\n",
    "        seconds = arr.item(0)*60 + arr.item(1)\n",
    "        if len(arr) == 3:\n",
    "            seconds += arr.item(2)*0.1\n",
    "        new_time = np.append(seconds, new_time)\n",
    "    df = df.drop([col_name], axis=1)\n",
    "    df[col_name+'_seconds'] = new_time"
   ]
  },
  {
   "cell_type": "code",
   "execution_count": 9,
   "metadata": {},
   "outputs": [],
   "source": [
    "sd_times = []\n",
    "\n",
    "for index, row in df.iterrows():\n",
    "    name = row['Name']\n",
    "    indiv_splits = []\n",
    "    indiv_std = 0\n",
    "    \n",
    "    for i in np.arange(1, 5):\n",
    "        split_num = 'split_%s_seconds' % i\n",
    "        indiv_splits = np.append(indiv_splits, row[split_num])\n",
    "    \n",
    "    indiv_std = np.std(indiv_splits, dtype=np.float64)\n",
    "    #indiv_times[name] = indiv_std\n",
    "    sd_times = np.append(sd_times, indiv_std)\n",
    "\n",
    "df['SD (seconds)'] = sd_times"
   ]
  },
  {
   "cell_type": "code",
   "execution_count": 10,
   "metadata": {},
   "outputs": [
    {
     "name": "stdout",
     "output_type": "stream",
     "text": [
      "Avg womens split SD: 12.199242027587704\n",
      "Avg mens split SD: 8.956003933392509\n",
      "Avg overall split SD: 10.469515044016932\n"
     ]
    }
   ],
   "source": [
    "## mens vs womens\n",
    "womens = df.loc[df['Gender'] == 'f']\n",
    "mens = df.loc[df['Gender'] == 'm']\n",
    "\n",
    "print('Avg womens split SD: %s' % np.mean(womens['SD (seconds)']))\n",
    "print('Avg mens split SD: %s' % np.mean(mens['SD (seconds)']))\n",
    "\n",
    "all_mean_SD = np.mean(df['SD (seconds)'])\n",
    "print('Avg overall split SD: %s' % all_mean_SD)"
   ]
  },
  {
   "cell_type": "code",
   "execution_count": 11,
   "metadata": {},
   "outputs": [
    {
     "data": {
      "image/png": "[encoded data removed]",
      "text/plain": [
       "<Figure size 576x396 with 1 Axes>"
      ]
     },
     "metadata": {},
     "output_type": "display_data"
    }
   ],
   "source": [
    "groups = df.groupby(\"Gender\")\n",
    "gr = {'m':'Men', 'f':'Women'}\n",
    "colors = {'m':'teal', 'f':'brown'}\n",
    "\n",
    "for name, group in groups:\n",
    "    plt.plot(group['overall_time_seconds'], group[\"SD (seconds)\"],\n",
    "             color=colors[name], marker=\"o\", linestyle=\"\", label=gr[name])\n",
    "\n",
    "plt.xlabel('500m time (seconds)')\n",
    "plt.ylabel('Standard deviation (seconds)')\n",
    "plt.title('Erg time trials versus standard deviation')\n",
    "plt.legend(loc='upper left', frameon=True, facecolor='white')\n",
    "plt.show()"
   ]
  },
  {
   "cell_type": "code",
   "execution_count": 25,
   "metadata": {},
   "outputs": [
    {
     "data": {
      "image/png": "[encoded data removed]",
      "text/plain": [
       "<Figure size 576x396 with 1 Axes>"
      ]
     },
     "metadata": {},
     "output_type": "display_data"
    }
   ],
   "source": [
    "mens_overall = np.array(mens['overall_time_seconds'])\n",
    "low_x = min(mens_overall)\n",
    "high_x = max(mens_overall)\n",
    "time_bins = np.arange(low_x, high_x+1, 10)\n",
    "\n",
    "for name, group in groups:\n",
    "    plt.hist(x=group['overall_time_seconds'], bins=time_bins, density=True,\n",
    "             color=colors[name], alpha=0.5, label=gr[name])\n",
    "\n",
    "plt.xlabel('Overall time (seconds)')\n",
    "plt.ylabel('Percent of paddlers')\n",
    "plt.title('Distribution of overall times')\n",
    "plt.legend(loc='upper right', frameon=True, facecolor='white')\n",
    "plt.show()"
   ]
  },
  {
   "cell_type": "code",
   "execution_count": 40,
   "metadata": {},
   "outputs": [
    {
     "data": {
      "image/png": "[encoded data removed]",
      "text/plain": [
       "<Figure size 576x396 with 1 Axes>"
      ]
     },
     "metadata": {},
     "output_type": "display_data"
    }
   ],
   "source": [
    "for name, group in groups:\n",
    "    group['SD/overall'] = group['SD (seconds)']/group['overall_time_seconds']\n",
    "    plt.hist(x=group['SD/overall'], bins=np.arange(0,0.2,0.02), density=True,\n",
    "             color=colors[name], alpha=0.5, label=gr[name])\n",
    "\n",
    "plt.xlabel('Overall time (seconds)')\n",
    "plt.ylabel('Percent of paddlers')\n",
    "plt.title('Distribution of overall times')\n",
    "plt.legend(loc='upper right', frameon=True, facecolor='white')\n",
    "plt.show()"
   ]
  },
  {
   "cell_type": "code",
   "execution_count": 15,
   "metadata": {},
   "outputs": [],
   "source": [
    "## export csv\n",
    "# df.to_csv('cleaned_erg1_f21.csv')"
   ]
  },
  {
   "cell_type": "code",
   "execution_count": null,
   "metadata": {},
   "outputs": [],
   "source": []
  }
 ],
 "metadata": {
  "kernelspec": {
   "display_name": "Python 3",
   "language": "python",
   "name": "python3"
  },
  "language_info": {
   "codemirror_mode": {
    "name": "ipython",
    "version": 3
   },
   "file_extension": ".py",
   "mimetype": "text/x-python",
   "name": "python",
   "nbconvert_exporter": "python",
   "pygments_lexer": "ipython3",
   "version": "3.8.5"
  }
 },
 "nbformat": 4,
 "nbformat_minor": 4
}
